{
  "nbformat": 4,
  "nbformat_minor": 0,
  "metadata": {
    "colab": {
      "provenance": [],
      "authorship_tag": "ABX9TyMFBQtq2gGe6XevGsUf11ID",
      "include_colab_link": true
    },
    "kernelspec": {
      "name": "python3",
      "display_name": "Python 3"
    },
    "language_info": {
      "name": "python"
    }
  },
  "cells": [
    {
      "cell_type": "markdown",
      "metadata": {
        "id": "view-in-github",
        "colab_type": "text"
      },
      "source": [
        "<a href=\"https://colab.research.google.com/github/SamiKhaji/CO-LAB/blob/main/SHL_AI.ipynb\" target=\"_parent\"><img src=\"https://colab.research.google.com/assets/colab-badge.svg\" alt=\"Open In Colab\"/></a>"
      ]
    },
    {
      "cell_type": "code",
      "execution_count": 1,
      "metadata": {
        "colab": {
          "base_uri": "https://localhost:8080/",
          "height": 90
        },
        "id": "ZJJs3hdeqhAF",
        "outputId": "3e206b40-4025-4577-a0af-290e69c633bb"
      },
      "outputs": [
        {
          "output_type": "display_data",
          "data": {
            "text/plain": [
              "<IPython.core.display.HTML object>"
            ],
            "text/html": [
              "\n",
              "     <input type=\"file\" id=\"files-3d75c194-44ad-42b4-96a5-7eaee5088108\" name=\"files[]\" multiple disabled\n",
              "        style=\"border:none\" />\n",
              "     <output id=\"result-3d75c194-44ad-42b4-96a5-7eaee5088108\">\n",
              "      Upload widget is only available when the cell has been executed in the\n",
              "      current browser session. Please rerun this cell to enable.\n",
              "      </output>\n",
              "      <script>// Copyright 2017 Google LLC\n",
              "//\n",
              "// Licensed under the Apache License, Version 2.0 (the \"License\");\n",
              "// you may not use this file except in compliance with the License.\n",
              "// You may obtain a copy of the License at\n",
              "//\n",
              "//      http://www.apache.org/licenses/LICENSE-2.0\n",
              "//\n",
              "// Unless required by applicable law or agreed to in writing, software\n",
              "// distributed under the License is distributed on an \"AS IS\" BASIS,\n",
              "// WITHOUT WARRANTIES OR CONDITIONS OF ANY KIND, either express or implied.\n",
              "// See the License for the specific language governing permissions and\n",
              "// limitations under the License.\n",
              "\n",
              "/**\n",
              " * @fileoverview Helpers for google.colab Python module.\n",
              " */\n",
              "(function(scope) {\n",
              "function span(text, styleAttributes = {}) {\n",
              "  const element = document.createElement('span');\n",
              "  element.textContent = text;\n",
              "  for (const key of Object.keys(styleAttributes)) {\n",
              "    element.style[key] = styleAttributes[key];\n",
              "  }\n",
              "  return element;\n",
              "}\n",
              "\n",
              "// Max number of bytes which will be uploaded at a time.\n",
              "const MAX_PAYLOAD_SIZE = 100 * 1024;\n",
              "\n",
              "function _uploadFiles(inputId, outputId) {\n",
              "  const steps = uploadFilesStep(inputId, outputId);\n",
              "  const outputElement = document.getElementById(outputId);\n",
              "  // Cache steps on the outputElement to make it available for the next call\n",
              "  // to uploadFilesContinue from Python.\n",
              "  outputElement.steps = steps;\n",
              "\n",
              "  return _uploadFilesContinue(outputId);\n",
              "}\n",
              "\n",
              "// This is roughly an async generator (not supported in the browser yet),\n",
              "// where there are multiple asynchronous steps and the Python side is going\n",
              "// to poll for completion of each step.\n",
              "// This uses a Promise to block the python side on completion of each step,\n",
              "// then passes the result of the previous step as the input to the next step.\n",
              "function _uploadFilesContinue(outputId) {\n",
              "  const outputElement = document.getElementById(outputId);\n",
              "  const steps = outputElement.steps;\n",
              "\n",
              "  const next = steps.next(outputElement.lastPromiseValue);\n",
              "  return Promise.resolve(next.value.promise).then((value) => {\n",
              "    // Cache the last promise value to make it available to the next\n",
              "    // step of the generator.\n",
              "    outputElement.lastPromiseValue = value;\n",
              "    return next.value.response;\n",
              "  });\n",
              "}\n",
              "\n",
              "/**\n",
              " * Generator function which is called between each async step of the upload\n",
              " * process.\n",
              " * @param {string} inputId Element ID of the input file picker element.\n",
              " * @param {string} outputId Element ID of the output display.\n",
              " * @return {!Iterable<!Object>} Iterable of next steps.\n",
              " */\n",
              "function* uploadFilesStep(inputId, outputId) {\n",
              "  const inputElement = document.getElementById(inputId);\n",
              "  inputElement.disabled = false;\n",
              "\n",
              "  const outputElement = document.getElementById(outputId);\n",
              "  outputElement.innerHTML = '';\n",
              "\n",
              "  const pickedPromise = new Promise((resolve) => {\n",
              "    inputElement.addEventListener('change', (e) => {\n",
              "      resolve(e.target.files);\n",
              "    });\n",
              "  });\n",
              "\n",
              "  const cancel = document.createElement('button');\n",
              "  inputElement.parentElement.appendChild(cancel);\n",
              "  cancel.textContent = 'Cancel upload';\n",
              "  const cancelPromise = new Promise((resolve) => {\n",
              "    cancel.onclick = () => {\n",
              "      resolve(null);\n",
              "    };\n",
              "  });\n",
              "\n",
              "  // Wait for the user to pick the files.\n",
              "  const files = yield {\n",
              "    promise: Promise.race([pickedPromise, cancelPromise]),\n",
              "    response: {\n",
              "      action: 'starting',\n",
              "    }\n",
              "  };\n",
              "\n",
              "  cancel.remove();\n",
              "\n",
              "  // Disable the input element since further picks are not allowed.\n",
              "  inputElement.disabled = true;\n",
              "\n",
              "  if (!files) {\n",
              "    return {\n",
              "      response: {\n",
              "        action: 'complete',\n",
              "      }\n",
              "    };\n",
              "  }\n",
              "\n",
              "  for (const file of files) {\n",
              "    const li = document.createElement('li');\n",
              "    li.append(span(file.name, {fontWeight: 'bold'}));\n",
              "    li.append(span(\n",
              "        `(${file.type || 'n/a'}) - ${file.size} bytes, ` +\n",
              "        `last modified: ${\n",
              "            file.lastModifiedDate ? file.lastModifiedDate.toLocaleDateString() :\n",
              "                                    'n/a'} - `));\n",
              "    const percent = span('0% done');\n",
              "    li.appendChild(percent);\n",
              "\n",
              "    outputElement.appendChild(li);\n",
              "\n",
              "    const fileDataPromise = new Promise((resolve) => {\n",
              "      const reader = new FileReader();\n",
              "      reader.onload = (e) => {\n",
              "        resolve(e.target.result);\n",
              "      };\n",
              "      reader.readAsArrayBuffer(file);\n",
              "    });\n",
              "    // Wait for the data to be ready.\n",
              "    let fileData = yield {\n",
              "      promise: fileDataPromise,\n",
              "      response: {\n",
              "        action: 'continue',\n",
              "      }\n",
              "    };\n",
              "\n",
              "    // Use a chunked sending to avoid message size limits. See b/62115660.\n",
              "    let position = 0;\n",
              "    do {\n",
              "      const length = Math.min(fileData.byteLength - position, MAX_PAYLOAD_SIZE);\n",
              "      const chunk = new Uint8Array(fileData, position, length);\n",
              "      position += length;\n",
              "\n",
              "      const base64 = btoa(String.fromCharCode.apply(null, chunk));\n",
              "      yield {\n",
              "        response: {\n",
              "          action: 'append',\n",
              "          file: file.name,\n",
              "          data: base64,\n",
              "        },\n",
              "      };\n",
              "\n",
              "      let percentDone = fileData.byteLength === 0 ?\n",
              "          100 :\n",
              "          Math.round((position / fileData.byteLength) * 100);\n",
              "      percent.textContent = `${percentDone}% done`;\n",
              "\n",
              "    } while (position < fileData.byteLength);\n",
              "  }\n",
              "\n",
              "  // All done.\n",
              "  yield {\n",
              "    response: {\n",
              "      action: 'complete',\n",
              "    }\n",
              "  };\n",
              "}\n",
              "\n",
              "scope.google = scope.google || {};\n",
              "scope.google.colab = scope.google.colab || {};\n",
              "scope.google.colab._files = {\n",
              "  _uploadFiles,\n",
              "  _uploadFilesContinue,\n",
              "};\n",
              "})(self);\n",
              "</script> "
            ]
          },
          "metadata": {}
        },
        {
          "output_type": "stream",
          "name": "stdout",
          "text": [
            "Saving kaggle.json to kaggle.json\n"
          ]
        },
        {
          "output_type": "execute_result",
          "data": {
            "text/plain": [
              "{'kaggle.json': b'{\"username\":\"khajimahammadsami\",\"key\":\"c7a84b02e697a7f8ffc6bb35ab085b27\"}'}"
            ]
          },
          "metadata": {},
          "execution_count": 1
        }
      ],
      "source": [
        "from google.colab import files\n",
        "files.upload()  # Upload kaggle.json here\n"
      ]
    },
    {
      "cell_type": "code",
      "source": [
        "import os\n",
        "import pandas as pd\n",
        "import numpy as np\n",
        "import librosa\n",
        "import librosa.display\n",
        "import matplotlib.pyplot as plt\n",
        "import seaborn as sns\n",
        "\n",
        "from sklearn.model_selection import train_test_split\n",
        "from sklearn.metrics import mean_squared_error\n",
        "\n",
        "import torch\n",
        "import torch.nn as nn\n",
        "from torch.utils.data import Dataset, DataLoader\n",
        "\n",
        "import torchaudio\n",
        "import torchaudio.transforms as T\n"
      ],
      "metadata": {
        "id": "RwwLYWloqo5X"
      },
      "execution_count": 2,
      "outputs": []
    },
    {
      "cell_type": "code",
      "source": [
        "!mkdir -p ~/.kaggle\n",
        "!cp kaggle.json ~/.kaggle/\n",
        "!chmod 600 ~/.kaggle/kaggle.json\n",
        "\n",
        "# Download dataset\n",
        "!kaggle competitions download -c shl-hiring-assessment\n",
        "!unzip shl-hiring-assessment.zip -d shl_data\n"
      ],
      "metadata": {
        "colab": {
          "base_uri": "https://localhost:8080/"
        },
        "id": "EAD40dzKqs8O",
        "outputId": "e7e185ec-7940-4c38-db6f-bb96f16efbd9"
      },
      "execution_count": 3,
      "outputs": [
        {
          "output_type": "stream",
          "name": "stdout",
          "text": [
            "403 Client Error: Forbidden for url: https://www.kaggle.com/api/v1/competitions/data/download-all/shl-hiring-assessment\n",
            "unzip:  cannot find or open shl-hiring-assessment.zip, shl-hiring-assessment.zip.zip or shl-hiring-assessment.zip.ZIP.\n"
          ]
        }
      ]
    },
    {
      "cell_type": "code",
      "source": [],
      "metadata": {
        "id": "Gbg9Jsp_rR63"
      },
      "execution_count": null,
      "outputs": []
    },
    {
      "cell_type": "code",
      "source": [
        "!kaggle competitions download -c shl-intern-hiring-assessment"
      ],
      "metadata": {
        "id": "NgqrkGQzrDY2"
      },
      "execution_count": 5,
      "outputs": []
    },
    {
      "cell_type": "code",
      "source": [
        "!unzip -q shl-intern-hiring-assessment.zip -d shl_data\n"
      ],
      "metadata": {
        "id": "ECcrWqxyrLX9"
      },
      "execution_count": 6,
      "outputs": []
    },
    {
      "cell_type": "code",
      "source": [
        "train_df = pd.read_csv('shl_data/dataset/train.csv')\n",
        "test_df = pd.read_csv('shl_data/dataset/test.csv')\n",
        "sample_submission = pd.read_csv('shl_data/dataset/sample_submission.csv')\n"
      ],
      "metadata": {
        "id": "Fx9RcZO8rdGl"
      },
      "execution_count": 8,
      "outputs": []
    },
    {
      "cell_type": "code",
      "source": [
        "from tqdm import tqdm"
      ],
      "metadata": {
        "id": "fcXBvQvKsLGW"
      },
      "execution_count": 11,
      "outputs": []
    },
    {
      "cell_type": "code",
      "source": [
        "def extract_audio_features(file_path, sr=16000, n_mfcc=40):\n",
        "    y, _ = librosa.load(file_path, sr=sr)\n",
        "    features = []\n",
        "\n",
        "    # 1. MFCC\n",
        "    mfccs = librosa.feature.mfcc(y=y, sr=sr, n_mfcc=n_mfcc)\n",
        "    mfccs_mean = np.mean(mfccs.T, axis=0)\n",
        "    features.extend(mfccs_mean)\n",
        "\n",
        "    # 2. Chroma\n",
        "    chroma = librosa.feature.chroma_stft(y=y, sr=sr)\n",
        "    chroma_mean = np.mean(chroma.T, axis=0)\n",
        "    features.extend(chroma_mean)\n",
        "\n",
        "    # 3. Zero Crossing Rate\n",
        "    zcr = librosa.feature.zero_crossing_rate(y)\n",
        "    zcr_mean = np.mean(zcr.T, axis=0)\n",
        "    features.append(zcr_mean[0])\n",
        "\n",
        "    # 4. Spectral Centroid\n",
        "    spec_centroid = librosa.feature.spectral_centroid(y=y, sr=sr)\n",
        "    features.append(np.mean(spec_centroid))\n",
        "\n",
        "    # 5. Spectral Rolloff\n",
        "    spec_rolloff = librosa.feature.spectral_rolloff(y=y, sr=sr)\n",
        "    features.append(np.mean(spec_rolloff))\n",
        "\n",
        "    # 6. RMS Energy\n",
        "    rms = librosa.feature.rms(y=y)\n",
        "    features.append(np.mean(rms))\n",
        "\n",
        "    # 7. Duration\n",
        "    duration = librosa.get_duration(y=y, sr=sr)\n",
        "    features.append(duration)\n",
        "\n",
        "    return np.array(features)\n"
      ],
      "metadata": {
        "id": "ee6e8ww-sOMs"
      },
      "execution_count": 110,
      "outputs": []
    },
    {
      "cell_type": "code",
      "source": [
        "train_features = []\n",
        "train_labels = []\n",
        "\n",
        "for fname, label in tqdm(zip(train_df['filename'], train_df['label']), total=len(train_df)):\n",
        "    file_path = os.path.join(\"shl_data/dataset/audios_train\", fname)\n",
        "    feat = extract_audio_features(file_path)\n",
        "    train_features.append(feat)\n",
        "    train_labels.append(label)\n",
        "\n",
        "X = np.array(train_features)\n",
        "y = np.array(train_labels)\n"
      ],
      "metadata": {
        "colab": {
          "base_uri": "https://localhost:8080/"
        },
        "id": "-6ppm5SWsSUU",
        "outputId": "8d7c3b0a-bcda-428c-f6f7-74e55e01104c"
      },
      "execution_count": 111,
      "outputs": [
        {
          "output_type": "stream",
          "name": "stderr",
          "text": [
            "100%|██████████| 355/355 [05:45<00:00,  1.03it/s]\n"
          ]
        }
      ]
    },
    {
      "cell_type": "code",
      "source": [
        "print(y[:10])"
      ],
      "metadata": {
        "colab": {
          "base_uri": "https://localhost:8080/"
        },
        "id": "LfszX889t0tz",
        "outputId": "55fea922-5f6f-44ed-976e-07c0ecfa68e4"
      },
      "execution_count": 112,
      "outputs": [
        {
          "output_type": "stream",
          "name": "stdout",
          "text": [
            "[3 2 6 6 2 2 7 7 4 8]\n"
          ]
        }
      ]
    },
    {
      "cell_type": "code",
      "source": [
        "import numpy as np\n",
        "from sklearn.preprocessing import LabelEncoder\n",
        "\n",
        "# Convert y to class indices for classification\n",
        "label_encoder = LabelEncoder()\n",
        "y_class = label_encoder.fit_transform(y)\n",
        "\n",
        "# Now split using y_class\n",
        "X_train, X_val, y_train, y_val = train_test_split(X, y_class, test_size=0.2, random_state=42)\n",
        "\n",
        "# Apply standard scaling to features\n",
        "from sklearn.preprocessing import StandardScaler\n",
        "scaler = StandardScaler()\n",
        "X_train = scaler.fit_transform(X_train)\n",
        "X_val = scaler.transform(X_val)\n"
      ],
      "metadata": {
        "id": "HlZ4GrPFIq_q"
      },
      "execution_count": 113,
      "outputs": []
    },
    {
      "cell_type": "code",
      "source": [
        "from sklearn.model_selection import train_test_split\n",
        "from sklearn.preprocessing import StandardScaler\n",
        "\n",
        "X_train, X_val, y_train, y_val = train_test_split(X, y, test_size=0.2, random_state=42)\n",
        "\n",
        "scaler = StandardScaler()\n",
        "X_train = scaler.fit_transform(X_train)\n",
        "X_val = scaler.transform(X_val)\n"
      ],
      "metadata": {
        "id": "WVvgrFCYt-t6"
      },
      "execution_count": 114,
      "outputs": []
    },
    {
      "cell_type": "code",
      "source": [
        "y_train"
      ],
      "metadata": {
        "colab": {
          "base_uri": "https://localhost:8080/"
        },
        "id": "nRNWgt3LJK8_",
        "outputId": "b9826df1-49f9-4a0c-95d5-37d67172bf15"
      },
      "execution_count": 115,
      "outputs": [
        {
          "output_type": "execute_result",
          "data": {
            "text/plain": [
              "array([2, 5, 7, 7, 4, 6, 7, 2, 7, 8, 7, 5, 8, 5, 7, 7, 2, 4, 4, 5, 4, 2,\n",
              "       8, 7, 3, 4, 4, 3, 4, 3, 2, 2, 6, 8, 2, 4, 7, 6, 5, 8, 2, 7, 6, 2,\n",
              "       3, 7, 2, 7, 4, 2, 6, 5, 8, 4, 8, 3, 8, 5, 4, 8, 7, 2, 7, 3, 8, 6,\n",
              "       4, 5, 4, 8, 4, 7, 7, 2, 4, 1, 6, 3, 8, 8, 5, 2, 8, 6, 8, 2, 4, 2,\n",
              "       4, 8, 8, 7, 4, 6, 8, 2, 2, 6, 4, 7, 2, 4, 5, 2, 7, 3, 3, 7, 4, 5,\n",
              "       7, 8, 4, 8, 4, 2, 8, 3, 7, 8, 5, 6, 4, 2, 2, 8, 4, 8, 2, 4, 8, 8,\n",
              "       3, 2, 8, 2, 6, 8, 7, 2, 4, 6, 2, 7, 4, 6, 2, 7, 7, 4, 8, 3, 1, 3,\n",
              "       5, 7, 7, 6, 7, 6, 4, 2, 8, 6, 3, 8, 3, 7, 4, 4, 3, 7, 2, 5, 8, 2,\n",
              "       3, 4, 4, 8, 4, 2, 8, 7, 8, 7, 4, 4, 8, 3, 4, 8, 7, 5, 7, 2, 4, 8,\n",
              "       7, 6, 4, 4, 2, 3, 4, 4, 6, 6, 4, 2, 4, 5, 4, 4, 3, 5, 2, 6, 4, 4,\n",
              "       6, 8, 4, 8, 8, 2, 8, 8, 2, 8, 2, 8, 5, 3, 3, 8, 2, 8, 8, 2, 8, 4,\n",
              "       6, 8, 8, 8, 8, 2, 6, 6, 7, 6, 4, 8, 8, 6, 7, 4, 2, 2, 4, 8, 4, 4,\n",
              "       3, 2, 5, 6, 8, 8, 4, 5, 6, 8, 7, 1, 2, 4, 6, 2, 3, 6, 4, 2])"
            ]
          },
          "metadata": {},
          "execution_count": 115
        }
      ]
    },
    {
      "cell_type": "code",
      "source": [
        "import seaborn as sns\n",
        "import matplotlib.pyplot as plt\n",
        "\n",
        "sns.histplot(train_df['label'], bins=9, kde=True)\n",
        "plt.title(\"Grammar Score Distribution\")\n",
        "plt.xlabel(\"Score\")\n",
        "plt.ylabel(\"Count\")\n",
        "plt.show()\n"
      ],
      "metadata": {
        "colab": {
          "base_uri": "https://localhost:8080/",
          "height": 472
        },
        "id": "9XeGELYbuC0j",
        "outputId": "65b49142-078d-4c8b-b123-c34905b7cc12"
      },
      "execution_count": 19,
      "outputs": [
        {
          "output_type": "display_data",
          "data": {
            "text/plain": [
              "<Figure size 640x480 with 1 Axes>"
            ],
            "image/png": "[encoded data removed]"
          },
          "metadata": {}
        }
      ]
    },
    {
      "cell_type": "code",
      "source": [
        "label_map = {0: 1.0, 1: 1.5, 2: 2.0, 3: 2.5, 4: 3.0, 5: 3.5, 6: 4.0, 7: 4.5, 8: 5.0, 9: 5.0}\n"
      ],
      "metadata": {
        "id": "H1tL1CT0MS-W"
      },
      "execution_count": 81,
      "outputs": []
    },
    {
      "cell_type": "code",
      "source": [
        "import pandas as pd\n",
        "import numpy as np\n",
        "\n",
        "df = pd.read_csv('shl_data/dataset/train.csv')\n",
        "df = df.dropna(subset=['label'])\n",
        "df['label'] = df['label'].astype(float)\n",
        "\n",
        "label_map = {\n",
        "    1.0: 0,\n",
        "    1.5: 1,\n",
        "    2.0: 2,\n",
        "    2.5: 3,\n",
        "    3.0: 4,\n",
        "    3.5: 5,\n",
        "    4.0: 6,\n",
        "    4.25: 7,\n",
        "    4.5: 8,\n",
        "    5.0: 9\n",
        "}\n",
        "\n",
        "df['label_id'] = df['label'].map(label_map)\n",
        "\n",
        "df['filename'] = 'shl_data/dataset/audios_train/' + df['filename']\n",
        "\n",
        "print(df.head())\n"
      ],
      "metadata": {
        "colab": {
          "base_uri": "https://localhost:8080/"
        },
        "id": "wckLYe8aMT2z",
        "outputId": "19481e35-6da7-465b-ae8b-d4fa1e05a029"
      },
      "execution_count": 120,
      "outputs": [
        {
          "output_type": "stream",
          "name": "stdout",
          "text": [
            "                                       filename  label  label_id\n",
            "0  shl_data/dataset/audios_train/audio_1261.wav    1.0         0\n",
            "1   shl_data/dataset/audios_train/audio_942.wav    1.5         1\n",
            "2  shl_data/dataset/audios_train/audio_1110.wav    1.5         1\n",
            "3  shl_data/dataset/audios_train/audio_1024.wav    1.5         1\n",
            "4   shl_data/dataset/audios_train/audio_538.wav    2.0         2\n"
          ]
        }
      ]
    },
    {
      "cell_type": "code",
      "source": [
        "print(df['label'])"
      ],
      "metadata": {
        "colab": {
          "base_uri": "https://localhost:8080/"
        },
        "id": "WI90RKfLNGTE",
        "outputId": "bdb0202d-e41d-477b-9b32-a83de5ca741e"
      },
      "execution_count": 121,
      "outputs": [
        {
          "output_type": "stream",
          "name": "stdout",
          "text": [
            "0      1.0\n",
            "1      1.5\n",
            "2      1.5\n",
            "3      1.5\n",
            "4      2.0\n",
            "      ... \n",
            "439    5.0\n",
            "440    5.0\n",
            "441    5.0\n",
            "442    5.0\n",
            "443    5.0\n",
            "Name: label, Length: 444, dtype: float64\n"
          ]
        }
      ]
    },
    {
      "cell_type": "code",
      "source": [
        "import librosa\n",
        "import numpy as np\n",
        "from tqdm import tqdm\n",
        "\n",
        "def extract_audio_features(file_path, sr=16000, n_mfcc=40):\n",
        "    y, _ = librosa.load(file_path, sr=sr)\n",
        "    features = []\n",
        "\n",
        "    # 1. MFCC\n",
        "    mfccs = librosa.feature.mfcc(y=y, sr=sr, n_mfcc=n_mfcc)\n",
        "    features.extend(np.mean(mfccs.T, axis=0))\n",
        "\n",
        "    # 2. Chroma\n",
        "    chroma = librosa.feature.chroma_stft(y=y, sr=sr)\n",
        "    features.extend(np.mean(chroma.T, axis=0))\n",
        "\n",
        "    # 3. Zero Crossing Rate\n",
        "    zcr = librosa.feature.zero_crossing_rate(y)\n",
        "    features.append(np.mean(zcr))\n",
        "\n",
        "    # 4. Spectral Centroid\n",
        "    spec_centroid = librosa.feature.spectral_centroid(y=y, sr=sr)\n",
        "    features.append(np.mean(spec_centroid))\n",
        "\n",
        "    # 5. Spectral Rolloff\n",
        "    spec_rolloff = librosa.feature.spectral_rolloff(y=y, sr=sr)\n",
        "    features.append(np.mean(spec_rolloff))\n",
        "\n",
        "    # 6. RMS Energy\n",
        "    rms = librosa.feature.rms(y=y)\n",
        "    features.append(np.mean(rms))\n",
        "\n",
        "    # 7. Duration\n",
        "    duration = librosa.get_duration(y=y, sr=sr)\n",
        "    features.append(duration)\n",
        "\n",
        "    return np.array(features)\n",
        "\n",
        "# Apply to the entire dataset\n",
        "features = []\n",
        "valid_indices = []\n",
        "\n",
        "print(\"Extracting features from audio files...\")\n",
        "\n",
        "for i, row in tqdm(df.iterrows(), total=len(df)):\n",
        "    try:\n",
        "        feats = extract_audio_features(row['filename'])\n",
        "        features.append(feats)\n",
        "        valid_indices.append(i)\n",
        "    except Exception as e:\n",
        "        print(f\"Error with file {row['filename']}: {e}\")\n",
        "\n",
        "df = df.loc[valid_indices].reset_index(drop=True)\n",
        "X = np.array(features)\n",
        "y = df['label'].values\n"
      ],
      "metadata": {
        "colab": {
          "base_uri": "https://localhost:8080/"
        },
        "id": "exAeNMszNyzq",
        "outputId": "66bb50b6-4c15-4b80-b9f5-46975cb8a3f3"
      },
      "execution_count": 122,
      "outputs": [
        {
          "output_type": "stream",
          "name": "stdout",
          "text": [
            "Extracting features from audio files...\n"
          ]
        },
        {
          "output_type": "stream",
          "name": "stderr",
          "text": [
            "100%|██████████| 444/444 [06:01<00:00,  1.23it/s]\n"
          ]
        }
      ]
    },
    {
      "cell_type": "code",
      "source": [
        "from collections import Counter\n",
        "from sklearn.model_selection import train_test_split\n",
        "from sklearn.preprocessing import LabelEncoder\n",
        "\n",
        "\n",
        "le = LabelEncoder()\n",
        "y_encoded = le.fit_transform(y)\n",
        "X_dup = X.tolist()\n",
        "y_dup = y_encoded.tolist()\n",
        "\n",
        "counter = Counter(y_dup)\n",
        "for label, count in counter.items():\n",
        "    if count < 2:\n",
        "        idx = y_dup.index(label)\n",
        "        X_dup.append(X_dup[idx])\n",
        "        y_dup.append(label)\n",
        "\n",
        "X_dup = np.array(X_dup)\n",
        "y_dup = np.array(y_dup)\n",
        "\n",
        "X_train, X_val, y_train, y_val = train_test_split(\n",
        "    X_dup, y_dup,\n",
        "    test_size=0.2,\n",
        "    random_state=42,\n",
        "    stratify=y_dup\n",
        ")\n",
        "\n",
        "print(\"✅ Train and validation split done.\")\n"
      ],
      "metadata": {
        "colab": {
          "base_uri": "https://localhost:8080/"
        },
        "id": "2sMdUNa1TbUK",
        "outputId": "537ae435-7aa5-4e05-fab8-e4ee22e53c76"
      },
      "execution_count": 123,
      "outputs": [
        {
          "output_type": "stream",
          "name": "stdout",
          "text": [
            "✅ Train and validation split done.\n"
          ]
        }
      ]
    },
    {
      "cell_type": "code",
      "source": [
        "from imblearn.over_sampling import SMOTE\n",
        "smote = SMOTE(random_state=42, k_neighbors=1)\n",
        "X_train_sm, y_train_sm = smote.fit_resample(X_train, y_train)\n",
        "\n",
        "from collections import Counter\n",
        "print(\"✅ SMOTE applied.\")\n",
        "print(\"🔢 Class distribution after SMOTE:\", Counter(y_train_sm))\n"
      ],
      "metadata": {
        "colab": {
          "base_uri": "https://localhost:8080/"
        },
        "id": "ULtG7MNvTorM",
        "outputId": "3cefbe91-7aeb-45be-ec1f-0f9604aea4c7"
      },
      "execution_count": 124,
      "outputs": [
        {
          "output_type": "stream",
          "name": "stdout",
          "text": [
            "✅ SMOTE applied.\n",
            "🔢 Class distribution after SMOTE: Counter({np.int64(7): 88, np.int64(6): 88, np.int64(4): 88, np.int64(3): 88, np.int64(8): 88, np.int64(2): 88, np.int64(0): 88, np.int64(5): 88, np.int64(1): 88})\n"
          ]
        }
      ]
    },
    {
      "cell_type": "code",
      "source": [
        "from xgboost import XGBClassifier\n",
        "from sklearn.metrics import classification_report, accuracy_score\n",
        "model = XGBClassifier(\n",
        "    use_label_encoder=False,\n",
        "    eval_metric='mlogloss',\n",
        "    random_state=42,\n",
        "    n_estimators=200,\n",
        "    learning_rate=0.05,\n",
        "    max_depth=6\n",
        ")\n",
        "model.fit(X_train_sm, y_train_sm)\n",
        "y_pred = model.predict(X_val)\n",
        "print(\"📊 Validation Accuracy:\", accuracy_score(y_val, y_pred) * 100, \"%\")\n",
        "print(\"\\n📋 Classification Report:\\n\", classification_report(y_val, y_pred))\n"
      ],
      "metadata": {
        "colab": {
          "base_uri": "https://localhost:8080/"
        },
        "id": "39YJ-6ojT4yx",
        "outputId": "6b2bc0f9-9656-4ca8-9927-4bbe06e3b704"
      },
      "execution_count": 125,
      "outputs": [
        {
          "output_type": "stream",
          "name": "stdout",
          "text": [
            "📊 Validation Accuracy: 38.20224719101123 %\n",
            "\n",
            "📋 Classification Report:\n",
            "               precision    recall  f1-score   support\n",
            "\n",
            "           0       0.00      0.00      0.00         0\n",
            "           1       0.00      0.00      0.00         1\n",
            "           2       0.36      0.29      0.32        14\n",
            "           3       0.33      0.25      0.29         8\n",
            "           4       0.45      0.53      0.49        17\n",
            "           5       0.00      0.00      0.00         5\n",
            "           6       0.33      0.20      0.25        10\n",
            "           7       0.29      0.50      0.36        12\n",
            "           8       0.65      0.50      0.56        22\n",
            "\n",
            "    accuracy                           0.38        89\n",
            "   macro avg       0.27      0.25      0.25        89\n",
            "weighted avg       0.41      0.38      0.39        89\n",
            "\n"
          ]
        }
      ]
    },
    {
      "cell_type": "code",
      "source": [
        "import os\n",
        "import numpy as np\n",
        "import pandas as pd\n",
        "import librosa\n",
        "from sklearn.preprocessing import LabelEncoder\n",
        "\n",
        "\n",
        "audio_test_dir = \"shl_data/dataset/audios_test\"\n",
        "test_df = pd.read_csv(\"shl_data/dataset/test.csv\")\n",
        "le = LabelEncoder()\n",
        "le.classes_ = np.array(['1.0', '1.5', '2.0', '2.5', '3.0', '3.5', '4.0', '4.5', '5.0'])\n",
        "\n",
        "def extract_mfcc(path, max_len=40):\n",
        "    y, sr = librosa.load(path, sr=None)\n",
        "    mfcc = librosa.feature.mfcc(y=y, sr=sr, n_mfcc=40)\n",
        "    if mfcc.shape[1] < max_len:\n",
        "        pad_width = max_len - mfcc.shape[1]\n",
        "        mfcc = np.pad(mfcc, pad_width=((0, 0), (0, pad_width)), mode='constant')\n",
        "    else:\n",
        "        mfcc = mfcc[:, :max_len]\n",
        "    return mfcc.flatten()\n",
        "\n",
        "X_test = []\n",
        "test_files = []\n",
        "\n",
        "print(\"🔍 Extracting features from test audio...\")\n",
        "for _, row in tqdm(test_df.iterrows(), total=len(test_df)):\n",
        "    file_path = os.path.join(audio_test_dir, row[\"filename\"])\n",
        "    try:\n",
        "        feats = extract_audio_features(file_path)\n",
        "        X_test.append(feats)\n",
        "        test_files.append(row[\"filename\"])\n",
        "    except Exception as e:\n",
        "        print(f\"⚠️ Error processing {row['filename']}: {e}\")\n",
        "\n",
        "X_test = np.array(X_test)\n",
        "le = LabelEncoder()\n",
        "le.classes_ = np.array(['1.0', '1.5', '2.0', '2.5', '3.0', '3.5', '4.0', '4.5', '5.0'])\n",
        "y_pred = model.predict(X_test)\n",
        "y_pred_labels = le.inverse_transform(y_pred)\n",
        "submission = pd.DataFrame({\n",
        "    \"filename\": test_files,\n",
        "    \"label\": y_pred_labels\n",
        "})\n",
        "\n",
        "submission.to_csv(\"submission.csv\", index=False)\n",
        "print(\"✅ Submission file saved as submission.csv\")\n"
      ],
      "metadata": {
        "colab": {
          "base_uri": "https://localhost:8080/"
        },
        "id": "Sa_wxOdLc0s8",
        "outputId": "a7cac501-d1db-429d-faf3-7dab4bd5c945"
      },
      "execution_count": 130,
      "outputs": [
        {
          "output_type": "stream",
          "name": "stdout",
          "text": [
            "🔍 Extracting features from test audio...\n"
          ]
        },
        {
          "output_type": "stream",
          "name": "stderr",
          "text": [
            "100%|██████████| 195/195 [03:41<00:00,  1.13s/it]"
          ]
        },
        {
          "output_type": "stream",
          "name": "stdout",
          "text": [
            "✅ Submission file saved as submission.csv\n"
          ]
        },
        {
          "output_type": "stream",
          "name": "stderr",
          "text": [
            "\n"
          ]
        }
      ]
    }
  ]
}