{
  "nbformat": 4,
  "nbformat_minor": 0,
  "metadata": {
    "colab": {
      "provenance": [],
      "authorship_tag": "ABX9TyNvY6zKSYDnhXxP0ewrU/9d",
      "include_colab_link": true
    },
    "kernelspec": {
      "name": "python3",
      "display_name": "Python 3"
    },
    "language_info": {
      "name": "python"
    }
  },
  "cells": [
    {
      "cell_type": "markdown",
      "metadata": {
        "id": "view-in-github",
        "colab_type": "text"
      },
      "source": [
        "<a href=\"https://colab.research.google.com/github/SamiKhaji/CO-LAB/blob/main/AssignmentDataScience01.ipynb\" target=\"_parent\"><img src=\"https://colab.research.google.com/assets/colab-badge.svg\" alt=\"Open In Colab\"/></a>"
      ]
    },
    {
      "cell_type": "code",
      "source": [
        "#plaindrome checker 01\n",
        "st=input(\"Enter a Word To check its a plaindriome or not:  \")\n",
        "st=st.casefold()\n",
        "rev = ''.join(reversed(st))\n",
        "if (st==rev):\n",
        "  print(f'{st}  is a plaindrome')\n",
        "else:\n",
        "  print(\"Not a palindrome\")"
      ],
      "metadata": {
        "colab": {
          "base_uri": "https://localhost:8080/"
        },
        "id": "JNyfYiZyYOPo",
        "outputId": "ec4545a2-1083-481a-f263-11ff61302da9"
      },
      "execution_count": null,
      "outputs": [
        {
          "output_type": "stream",
          "name": "stdout",
          "text": [
            "Enter a Word To check its a plaindriome or not:  Nitin\n",
            "nitin  is a plaindrome\n"
          ]
        }
      ]
    },
    {
      "cell_type": "code",
      "source": [
        "#fibonacci 02\n",
        "def Fibonacci(n):\n",
        "\tif n < 0:\n",
        "\t\tprint(\"Incorrect input\")\n",
        "\telif n == 0:\n",
        "\t\treturn 0\n",
        "\telif n == 1 or n == 2:\n",
        "\t\treturn 1\n",
        "\telse:\n",
        "\t\treturn Fibonacci(n-1) + Fibonacci(n-2)\n",
        "print(Fibonacci(7))\n"
      ],
      "metadata": {
        "colab": {
          "base_uri": "https://localhost:8080/"
        },
        "id": "aucAH87pb8bq",
        "outputId": "5d576c3a-bd4f-4a84-bc2f-78d531902be9"
      },
      "execution_count": null,
      "outputs": [
        {
          "output_type": "stream",
          "name": "stdout",
          "text": [
            "13\n"
          ]
        }
      ]
    },
    {
      "cell_type": "code",
      "source": [
        "#fact 03\n",
        "def factorial(x):\n",
        "    if x == 1:\n",
        "        return 1\n",
        "    else:\n",
        "        return (x * factorial(x-1))\n",
        "\n",
        "num =int(input(\"Enter an integer:\"))\n",
        "result = factorial(num)\n",
        "print(\"The factorial of\", num, \"is\", result)"
      ],
      "metadata": {
        "colab": {
          "base_uri": "https://localhost:8080/"
        },
        "id": "76j_Xjnmean_",
        "outputId": "e7f9b2ab-6704-4b0f-8f3c-065a28152665"
      },
      "execution_count": null,
      "outputs": [
        {
          "output_type": "stream",
          "name": "stdout",
          "text": [
            "Enter an integer:5\n",
            "The factorial of 5 is 120\n"
          ]
        }
      ]
    },
    {
      "cell_type": "code",
      "source": [
        "#leap year 04\n",
        "year = int(input(\"Enter the YEar::\"))\n",
        "if (year % 400 == 0) and (year % 100 == 0):\n",
        "    print(\"{0} is a leap year\".format(year))\n",
        "elif (year % 4 ==0) and (year % 100 != 0):\n",
        "    print(\"{0} is a leap year\".format(year))\n",
        "else:\n",
        "    print(\"{0} is not a leap year\".format(year))"
      ],
      "metadata": {
        "colab": {
          "base_uri": "https://localhost:8080/"
        },
        "id": "9PMO18K3d8HZ",
        "outputId": "bdda6ec5-49aa-409d-f38e-3abc729db96e"
      },
      "execution_count": null,
      "outputs": [
        {
          "output_type": "stream",
          "name": "stdout",
          "text": [
            "Enter the YEar::2020\n",
            "2020 is a leap year\n"
          ]
        }
      ]
    },
    {
      "cell_type": "code",
      "source": [
        "#sum 05\n",
        "num = int(input(\"Enter a number\"))\n",
        "if num < 0:\n",
        "   print(\"Enter a positive number\")\n",
        "else:\n",
        "   sum = 0\n",
        "   # use while loop to iterate until zero\n",
        "   while(num > 0):\n",
        "       sum += num\n",
        "       num -= 1\n",
        "   print(\"The sum is\", sum)\n"
      ],
      "metadata": {
        "colab": {
          "base_uri": "https://localhost:8080/"
        },
        "id": "hJaM4WNve3Bf",
        "outputId": "48873b8a-846e-4e29-c7b2-27605eadea38"
      },
      "execution_count": null,
      "outputs": [
        {
          "output_type": "stream",
          "name": "stdout",
          "text": [
            "Enter a number10\n",
            "The sum is 55\n"
          ]
        }
      ]
    },
    {
      "cell_type": "code",
      "source": [
        "#swap 06\n",
        "x = 5\n",
        "y = 10\n",
        "#temp = x\n",
        "#x = y\n",
        "#y = temp\n",
        "x,y=y,x\n",
        "print(f'The value of x after swapping: {x}')\n",
        "print(f'The value of y after swapping: {y}')\n"
      ],
      "metadata": {
        "colab": {
          "base_uri": "https://localhost:8080/"
        },
        "id": "jYIX6HOgT5zY",
        "outputId": "29ca219c-bc66-4fd5-b11c-531d4f45e12b"
      },
      "execution_count": null,
      "outputs": [
        {
          "output_type": "stream",
          "name": "stdout",
          "text": [
            "The value of x after swapping: 10\n",
            "The value of y after swapping: 5\n"
          ]
        }
      ]
    },
    {
      "cell_type": "code",
      "execution_count": null,
      "metadata": {
        "colab": {
          "base_uri": "https://localhost:8080/"
        },
        "id": "YmO7VkSECltp",
        "outputId": "12f3d689-66cc-4032-f4c1-ebe0e955f52d"
      },
      "outputs": [
        {
          "output_type": "stream",
          "name": "stdout",
          "text": [
            "Enter the number of elements in array5\n",
            "10\n",
            "9\n",
            "8\n",
            "7\n",
            "1\n",
            "unsorted[10, 9, 8, 7, 1]\n",
            "[1, 7, 8, 9, 10]\n"
          ]
        }
      ],
      "source": [
        "#bubble sort 07\n",
        "def bubblesort(arr):\n",
        "  n=len(arr)\n",
        "  for i in range(n-1):\n",
        "    swapped=False\n",
        "    for j in range(0,n-i-1):\n",
        "      if arr[j]>arr[j+1]:\n",
        "        swapped=True\n",
        "        arr[j],arr[j+1]=arr[j+1],arr[j]\n",
        "      if not swapped:\n",
        "        break\n",
        "arr=[]\n",
        "n=int(input(\"Enter the number of elements in array\"))\n",
        "for i in range(0,n):\n",
        "  l=int(input())\n",
        "  arr.append(l)\n",
        "\n",
        "print(f'unsorted array{arr}')\n",
        "bubblesort(arr)\n",
        "print(f'sorted array{arr}')\n"
      ]
    },
    {
      "cell_type": "code",
      "source": [
        "#selection sort 08\n",
        "def sel_sort(arr):\n",
        "    n = len(arr)\n",
        "    for i in range(n):\n",
        "        min_idx = i\n",
        "        for j in range(i+1, n):\n",
        "            if arr[j] < arr[min_idx]:\n",
        "                min_idx = j\n",
        "        arr[i], arr[min_idx] = arr[min_idx], arr[i]\n",
        "    return arr\n",
        "\n",
        "nums=[2,67,9,0,199,12]\n",
        "print(sel_sort(nums))\n"
      ],
      "metadata": {
        "colab": {
          "base_uri": "https://localhost:8080/"
        },
        "id": "-4ciEL9wMxs2",
        "outputId": "0d5c0554-517e-4c20-b9a0-25e97acd8964"
      },
      "execution_count": null,
      "outputs": [
        {
          "output_type": "stream",
          "name": "stdout",
          "text": [
            "[0, 2, 9, 12, 67, 199]\n"
          ]
        }
      ]
    },
    {
      "cell_type": "code",
      "source": [
        "# Insertion sort  09\n",
        "def insertionSort(array):\n",
        "\n",
        "    for i in range(1, len(array)):\n",
        "        key = array[i]\n",
        "        j = i - 1\n",
        "        while j >= 0 and key < array[j]:\n",
        "            array[j + 1] = array[j]\n",
        "            j = j - 1\n",
        "        array[j + 1] = key\n",
        "data = [10, 5, 1, 4, 3]\n",
        "insertionSort(data)\n",
        "print(f'Sorted Array :{data}')"
      ],
      "metadata": {
        "colab": {
          "base_uri": "https://localhost:8080/"
        },
        "id": "mlRzrC2ETVj-",
        "outputId": "e14ef7a1-c06d-40c6-9b82-9e58d501ce72"
      },
      "execution_count": null,
      "outputs": [
        {
          "output_type": "stream",
          "name": "stdout",
          "text": [
            "Sorted Array :[1, 3, 4, 5, 10]\n"
          ]
        }
      ]
    },
    {
      "cell_type": "code",
      "source": [
        "#Binart st 10\n",
        "class BinarySearchTree:\n",
        "    def __init__(self,data):\n",
        "        self.data=data\n",
        "        self.right=None\n",
        "        self.left=None\n",
        "    def add_child(self,data):\n",
        "        if data==self.data:\n",
        "            return\n",
        "\n",
        "        if data<self.data:\n",
        "            if self.left:\n",
        "                self.left.add_child(data)\n",
        "\n",
        "            else:\n",
        "                self.left=BinarySearchTree(data)\n",
        "        else:\n",
        "            if self.right:\n",
        "                self.right.add_child(data)\n",
        "            else:\n",
        "                self.right=BinarySearchTree(data)\n",
        "\n",
        "    def postorder(self):\n",
        "        elements=[]\n",
        "\n",
        "        if self.left:\n",
        "            elements+=self.left.postorder()\n",
        "\n",
        "        if self.right:\n",
        "            elements+=self.right.postorder()\n",
        "\n",
        "        elements.append(self.data)\n",
        "\n",
        "        return elements\n",
        "def bui(elements):\n",
        "    root=BinarySearchTree(elements[0])\n",
        "    for i in range(1,len(elements)):\n",
        "        root.add_child(elements[i])\n",
        "\n",
        "    return root\n",
        "elements=[100, 0, 99, 34, 56]\n",
        "tree=bui(elements)\n",
        "print(tree.postorder())\n"
      ],
      "metadata": {
        "colab": {
          "base_uri": "https://localhost:8080/"
        },
        "id": "WWLT5k5MMxpW",
        "outputId": "d781ad08-5088-4bd2-a51e-46b71eb8e375"
      },
      "execution_count": null,
      "outputs": [
        {
          "output_type": "stream",
          "name": "stdout",
          "text": [
            "[56, 34, 99, 0, 100]\n"
          ]
        }
      ]
    },
    {
      "cell_type": "code",
      "source": [
        "#numpy 11\n",
        "import numpy as np\n",
        "list=[10,20,60,40,50]\n",
        "print(list)\n",
        "print(f'mean is: {np.mean(list)}')\n",
        "print(f'median is: {np.median(list)}')\n",
        "print(f'Variance is: {np.var(list)}')\n",
        "print(f'Standard Deviation is: {np.std(list)}')"
      ],
      "metadata": {
        "colab": {
          "base_uri": "https://localhost:8080/"
        },
        "id": "-QCmXcPST5AO",
        "outputId": "7d516576-3778-4309-f895-324e630bdde3"
      },
      "execution_count": null,
      "outputs": [
        {
          "output_type": "stream",
          "name": "stdout",
          "text": [
            "[10, 20, 60, 40, 50]\n",
            "mean is: 36.0\n",
            "median is: 40.0\n",
            "Variance is: 344.0\n",
            "Standard Deviation is: 18.547236990991408\n"
          ]
        }
      ]
    },
    {
      "cell_type": "code",
      "source": [
        "#numpy 12\n",
        "import numpy as np\n",
        "\n",
        "matrix = np.array([[2, -3,1],\n",
        "                   [2, 0,-1],\n",
        "                   [1, 4,5]])\n",
        "matrix2=np.array([[1,3,9],\n",
        "                  [2,5,6],\n",
        "                   [9,8,1]])\n",
        "#transpose_matrix = np.transpose(matrix)\n",
        "print(f'Transpose of Matrix:\\n{matrix.T}')"
      ],
      "metadata": {
        "colab": {
          "base_uri": "https://localhost:8080/"
        },
        "id": "MTKg6d0OT47U",
        "outputId": "1574b710-3c27-47da-b71e-840a98787cff"
      },
      "execution_count": null,
      "outputs": [
        {
          "output_type": "stream",
          "name": "stdout",
          "text": [
            "Transpose of Matrix:\n",
            "[[ 2  2  1]\n",
            " [-3  0  4]\n",
            " [ 1 -1  5]]\n"
          ]
        }
      ]
    },
    {
      "cell_type": "code",
      "source": [
        "#numpy 13\n",
        "import numpy as np\n",
        "\n",
        "matrix = np.array([[2, -3,1],\n",
        "                   [2, 0,-1],\n",
        "                   [1, 4,5]])\n",
        "matrix2=np.array([[1,3,9],\n",
        "                  [2,5,6],\n",
        "                   [9,8,1]])\n",
        "print(f'\\naddition of two matrices matrix and matrix 2 is \\n {np.add(matrix,matrix2)}')"
      ],
      "metadata": {
        "colab": {
          "base_uri": "https://localhost:8080/"
        },
        "id": "EFwnvg8WT42K",
        "outputId": "c3fbdba2-8f49-4087-b272-2e57acb5b67d"
      },
      "execution_count": null,
      "outputs": [
        {
          "output_type": "stream",
          "name": "stdout",
          "text": [
            "\n",
            "addition of two matrices matrix and matrix 2 is \n",
            " [[ 3  0 10]\n",
            " [ 4  5  5]\n",
            " [10 12  6]]\n"
          ]
        }
      ]
    },
    {
      "cell_type": "code",
      "source": [
        "#numpy 14\n",
        "import numpy as np\n",
        "\n",
        "matrix = np.array([[2, -3,1],\n",
        "                   [2, 0,-1],\n",
        "                   [1, 4,5]])\n",
        "matrix2=np.array([[1,3,9],\n",
        "                  [2,5,6],\n",
        "                   [9,8,1]])\n",
        "print(f'\\nMultiplication of two matrices  matrix and matrix2 is \\n{np.matmul(matrix,matrix2)}')\n"
      ],
      "metadata": {
        "colab": {
          "base_uri": "https://localhost:8080/"
        },
        "id": "CFZCxP4ET4v0",
        "outputId": "4040d720-7a0b-4fca-f8d6-39c23bf7a3fa"
      },
      "execution_count": null,
      "outputs": [
        {
          "output_type": "stream",
          "name": "stdout",
          "text": [
            "\n",
            "Multiplication of two matrices  matrix and matrix2 is \n",
            "[[ 5 -1  1]\n",
            " [-7 -2 17]\n",
            " [54 63 38]]\n"
          ]
        }
      ]
    },
    {
      "cell_type": "code",
      "source": [
        "#numpy 15\n",
        "import numpy as np\n",
        "\n",
        "matrix = np.array([[2, -3,1],\n",
        "                   [2, 0,-1],\n",
        "                   [1, 4,5]])\n",
        "matrix2=np.array([[1,3,9],\n",
        "                  [2,5,6],\n",
        "                   [9,8,1]])\n",
        "print(f'\\n Determinant of the Matrix named  matrix is:{np.linalg.det(matrix)}')\n",
        "print(f'\\n Inverse of the Matrix named  matrix is:\\n{np.linalg.inv(matrix)}')"
      ],
      "metadata": {
        "colab": {
          "base_uri": "https://localhost:8080/"
        },
        "id": "HGFpJ0NNT4pb",
        "outputId": "b0fc1e51-97c3-4657-ddfb-60ea6f8c1711"
      },
      "execution_count": null,
      "outputs": [
        {
          "output_type": "stream",
          "name": "stdout",
          "text": [
            "\n",
            " Determinant of the Matrix named  matrix is:49.000000000000014\n",
            "\n",
            " Inverse of the Matrix named  matrix is:\n",
            "[[ 0.08163265  0.3877551   0.06122449]\n",
            " [-0.2244898   0.18367347  0.08163265]\n",
            " [ 0.16326531 -0.2244898   0.12244898]]\n"
          ]
        }
      ]
    },
    {
      "cell_type": "code",
      "source": [
        "#numpy 16\n",
        "import numpy as np\n",
        "v1=np.array([1,2,3,4])\n",
        "v2=np.array([2,3,4,0])\n",
        "print(f'Vector dot product of two V1 and V2 is :{v1.dot(v2)}') #or dot product can be done by np.dot(v1,v2)"
      ],
      "metadata": {
        "colab": {
          "base_uri": "https://localhost:8080/"
        },
        "id": "riWjEt_lMxh1",
        "outputId": "80ed9657-e7d1-41aa-fc9e-d0c615c18dc2"
      },
      "execution_count": null,
      "outputs": [
        {
          "output_type": "stream",
          "name": "stdout",
          "text": [
            "Vector dot product of two V1 and V2 is :20\n"
          ]
        }
      ]
    },
    {
      "cell_type": "code",
      "source": [
        "#numpy 17\n",
        "import numpy as np\n",
        "import matplotlib.pyplot as plt\n",
        "plt.plot([0,3],[2,4],label='first line')\n",
        "plt.plot([1,4],[0,3],label='secondline')\n",
        "plt.legend()\n"
      ],
      "metadata": {
        "colab": {
          "base_uri": "https://localhost:8080/",
          "height": 447
        },
        "id": "-GB5nEbvT4iV",
        "outputId": "7abae859-59c5-47e7-a589-91a507585c05"
      },
      "execution_count": null,
      "outputs": [
        {
          "output_type": "execute_result",
          "data": {
            "text/plain": [
              "<matplotlib.legend.Legend at 0x7ea38904e440>"
            ]
          },
          "metadata": {},
          "execution_count": 11
        },
        {
          "output_type": "display_data",
          "data": {
            "text/plain": [
              "<Figure size 640x480 with 1 Axes>"
            ],
            "image/png": "[encoded data removed]"
          },
          "metadata": {}
        }
      ]
    },
    {
      "cell_type": "code",
      "source": [
        "#numpy 18\n",
        "import numpy as np\n",
        "import matplotlib.pyplot as plt\n",
        "M=np.random.randint(0,9,size=(4,5))#randomly generated the values of matrix m as specified format\n",
        "print(M)\n",
        "plt.imshow(M)#this will show the matrix in theimage pixel format\n",
        "plt.plot([0,4],[3,0],'r')"
      ],
      "metadata": {
        "id": "FDLP2uCcMxeY",
        "colab": {
          "base_uri": "https://localhost:8080/",
          "height": 522
        },
        "outputId": "dbc51177-67ec-447e-e935-2bf0b9a6f58b"
      },
      "execution_count": null,
      "outputs": [
        {
          "output_type": "stream",
          "name": "stdout",
          "text": [
            "[[0 6 3 0 8]\n",
            " [0 0 0 8 2]\n",
            " [2 7 8 8 1]\n",
            " [6 6 1 4 8]]\n"
          ]
        },
        {
          "output_type": "execute_result",
          "data": {
            "text/plain": [
              "[<matplotlib.lines.Line2D at 0x7ea3891345b0>]"
            ]
          },
          "metadata": {},
          "execution_count": 6
        },
        {
          "output_type": "display_data",
          "data": {
            "text/plain": [
              "<Figure size 640x480 with 1 Axes>"
            ],
            "image/png": "[encoded data removed]"
          },
          "metadata": {}
        }
      ]
    },
    {
      "cell_type": "code",
      "source": [
        "#numpy 19\n",
        "import numpy as np\n",
        "import matplotlib.pyplot as plt\n",
        "RM=np.random.randn(4,4)\n",
        "RMinv=np.linalg.inv(RM)#finding inv\n",
        "print(RM)\n",
        "print('')\n",
        "print(RMinv)\n",
        "print('')\n",
        "RMinvRM=RMinv@RM\n",
        "print(RMinvRM)\n"
      ],
      "metadata": {
        "colab": {
          "base_uri": "https://localhost:8080/"
        },
        "id": "7snrG2y9clwY",
        "outputId": "13546eea-86c6-45b9-f2cd-187555ac6365"
      },
      "execution_count": null,
      "outputs": [
        {
          "output_type": "stream",
          "name": "stdout",
          "text": [
            "[[-1.87966369 -0.45781259  1.67308786 -0.21954324]\n",
            " [-0.35747621 -1.1370597   1.50818887  0.21091644]\n",
            " [ 1.66353089 -0.92709585  1.22937464  0.39430796]\n",
            " [ 0.80540475 -0.61712022  0.96403527  1.09407538]]\n",
            "\n",
            "[[ 0.01780487 -0.42085417  0.59333219 -0.12913333]\n",
            " [ 1.18970133 -2.13926979  0.68964894  0.40259017]\n",
            " [ 0.92287304 -1.05400978  0.76103783  0.11410115]\n",
            " [-0.1552302   0.03187522 -0.71836326  1.13561975]]\n",
            "\n",
            "[[ 1.00000000e+00  3.14291990e-17 -1.72633559e-16 -7.69112830e-17]\n",
            " [ 8.65865064e-17  1.00000000e+00 -5.24667497e-16  2.03115094e-17]\n",
            " [ 2.67218354e-17 -2.34208251e-16  1.00000000e+00 -1.40056963e-17]\n",
            " [-5.78195961e-17  1.04618352e-16 -1.15675453e-16  1.00000000e+00]]\n"
          ]
        }
      ]
    },
    {
      "cell_type": "code",
      "source": [
        "#numpy 20\n",
        "fig,ax=plt.subplots(1,3,figsize=(6,6))\n",
        "\n",
        "ax[0].imshow(RM)\n",
        "ax[0].set_title('RM')\n",
        "\n",
        "ax[1].imshow(RMinv)\n",
        "ax[1].set_title('RM$^{-1}$')\n",
        "\n",
        "ax[2].imshow(RMinvRM)\n",
        "ax[2].set_title('RM$^{-1}$RM')"
      ],
      "metadata": {
        "colab": {
          "base_uri": "https://localhost:8080/",
          "height": 238
        },
        "id": "RFge4Se6cyKQ",
        "outputId": "e5c077f9-3d14-4b4b-9a05-f7a0e92d167d"
      },
      "execution_count": null,
      "outputs": [
        {
          "output_type": "execute_result",
          "data": {
            "text/plain": [
              "Text(0.5, 1.0, 'RM$^{-1}$RM')"
            ]
          },
          "metadata": {},
          "execution_count": 53
        },
        {
          "output_type": "display_data",
          "data": {
            "text/plain": [
              "<Figure size 600x600 with 3 Axes>"
            ],
            "image/png": "[encoded data removed]"
          },
          "metadata": {}
        }
      ]
    }
  ]
}